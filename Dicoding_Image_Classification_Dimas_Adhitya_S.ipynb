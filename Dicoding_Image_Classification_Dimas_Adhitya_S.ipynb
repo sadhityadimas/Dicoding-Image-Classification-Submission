{
 "cells": [
  {
   "cell_type": "markdown",
   "metadata": {
    "id": "QanaX2IR--wu"
   },
   "source": [
    "# Rock Paper Scissors Image Classification Submission for Dicoding"
   ]
  },
  {
   "cell_type": "markdown",
   "metadata": {
    "id": "qET19cKx_Fbu"
   },
   "source": [
    "## Using CNN \n",
    "## Using Callbacks for early stopping\n",
    "## Tried to Use Batchnormalization but validation score fell and resulted in overfitting, cancel batchnormalization usage"
   ]
  },
  {
   "cell_type": "code",
   "execution_count": 1,
   "metadata": {
    "colab": {
     "base_uri": "https://localhost:8080/"
    },
    "id": "0ngMtyUwymA4",
    "outputId": "4f9bdfdd-3160-4de8-ebb5-1d8ccd4df138"
   },
   "outputs": [
    {
     "name": "stdout",
     "output_type": "stream",
     "text": [
      "Requirement already satisfied: split_folders in /usr/local/lib/python3.7/dist-packages (0.4.3)\n",
      "Requirement already satisfied: tqdm in /usr/local/lib/python3.7/dist-packages (4.41.1)\n",
      "Requirement already satisfied: seedir in /usr/local/lib/python3.7/dist-packages (0.2.0)\n",
      "Requirement already satisfied: emoji in /usr/local/lib/python3.7/dist-packages (from seedir) (1.2.0)\n",
      "Requirement already satisfied: natsort in /usr/local/lib/python3.7/dist-packages (from seedir) (5.5.0)\n"
     ]
    }
   ],
   "source": [
    "#install required library first\n",
    "!pip install split_folders tqdm #for dataset train test split \n",
    "!pip install seedir #for directory treeview "
   ]
  },
  {
   "cell_type": "code",
   "execution_count": 2,
   "metadata": {
    "id": "H7djns9c98Sm"
   },
   "outputs": [],
   "source": [
    "from tensorflow import keras\n",
    "from tensorflow.keras.preprocessing.image import ImageDataGenerator\n",
    "from tensorflow.keras import layers\n",
    "from tensorflow.keras.callbacks import EarlyStopping\n",
    "from keras.preprocessing import image\n",
    "import matplotlib.pyplot as plt\n",
    "import matplotlib.image as mpimg\n",
    "import matplotlib.pyplot as plt\n",
    "import matplotlib.image as mpimg\n",
    "import numpy as np\n",
    "from google.colab import files\n",
    "import zipfile,os\n",
    "import splitfolders #for easier dataset splitting  \n",
    "import seedir as sd #for directory tree viewer\n",
    "import pandas as pd\n",
    "import timeit #for calculating script runtime\n",
    "start = timeit.default_timer()"
   ]
  },
  {
   "cell_type": "code",
   "execution_count": 3,
   "metadata": {
    "colab": {
     "base_uri": "https://localhost:8080/"
    },
    "id": "z-occZMw98Pa",
    "outputId": "87b78b25-bfb7-4c6d-abdc-d056aab0ea2f"
   },
   "outputs": [
    {
     "name": "stdout",
     "output_type": "stream",
     "text": [
      "--2021-06-22 00:47:37--  https://dicodingacademy.blob.core.windows.net/picodiploma/ml_pemula_academy/rockpaperscissors.zip\n",
      "Resolving dicodingacademy.blob.core.windows.net (dicodingacademy.blob.core.windows.net)... 52.239.197.36\n",
      "Connecting to dicodingacademy.blob.core.windows.net (dicodingacademy.blob.core.windows.net)|52.239.197.36|:443... connected.\n",
      "HTTP request sent, awaiting response... 200 OK\n",
      "Length: 322873683 (308M) [application/zip]\n",
      "Saving to: ‘/tmp/rockpaperscissors.zip’\n",
      "\n",
      "/tmp/rockpapersciss 100%[===================>] 307.92M  4.22MB/s    in 83s     \n",
      "\n",
      "2021-06-22 00:49:00 (3.71 MB/s) - ‘/tmp/rockpaperscissors.zip’ saved [322873683/322873683]\n",
      "\n"
     ]
    }
   ],
   "source": [
    "# Fetching the dataset\n",
    "!wget --no-check-certificate \\\n",
    "    https://dicodingacademy.blob.core.windows.net/picodiploma/ml_pemula_academy/rockpaperscissors.zip \\\n",
    "    -O /tmp/rockpaperscissors.zip"
   ]
  },
  {
   "cell_type": "code",
   "execution_count": 4,
   "metadata": {
    "id": "pG-LA4yE98MG"
   },
   "outputs": [],
   "source": [
    "#extract and put into temporary folder\n",
    "dataset = '/tmp/rockpaperscissors.zip'\n",
    "zip_ref = zipfile.ZipFile(dataset, 'r')\n",
    "zip_ref.extractall('/tmp/')\n",
    "zip_ref.close()"
   ]
  },
  {
   "cell_type": "code",
   "execution_count": 5,
   "metadata": {
    "id": "vtvSxpwa98JS"
   },
   "outputs": [],
   "source": [
    "#target directory\n",
    "target_dir = '/tmp/rockpaperscissors/rps-cv-images/'"
   ]
  },
  {
   "cell_type": "code",
   "execution_count": 6,
   "metadata": {
    "colab": {
     "base_uri": "https://localhost:8080/"
    },
    "id": "FS4geM8U98Gh",
    "outputId": "d8849fd8-d9c4-41c1-dccc-24f34c723246"
   },
   "outputs": [
    {
     "name": "stdout",
     "output_type": "stream",
     "text": [
      "rps-cv-images/\n",
      "├─scissors/\n",
      "│ ├─GIFgGPzv7MykUgzM.png\n",
      "│ ├─P2mN2BN7A8eaYm1l.png\n",
      "│ └─8Q1PAZsxpLf5FAo6.png\n",
      "├─rock/\n",
      "│ ├─RpCSMPJ0LhFPYksZ.png\n",
      "│ ├─nY37eRslka1ss2bZ.png\n",
      "│ └─l0rOvSD1UwFg1Xv2.png\n",
      "└─paper/\n",
      "  ├─HbBcQItQ6d5yMDqL.png\n",
      "  ├─Z9vSGzBQ8YLOXQIX.png\n",
      "  └─axwcCc4rC8ySUtML.png\n"
     ]
    }
   ],
   "source": [
    "#check dataset directory\n",
    "sd.seedir(target_dir, style='lines', itemlimit=3, depthlimit=2)"
   ]
  },
  {
   "cell_type": "code",
   "execution_count": 7,
   "metadata": {
    "colab": {
     "base_uri": "https://localhost:8080/"
    },
    "id": "e-qoz42a98D2",
    "outputId": "a404f897-02a9-402e-e035-cdb30f11c6e3"
   },
   "outputs": [
    {
     "name": "stderr",
     "output_type": "stream",
     "text": [
      "Copying files: 2188 files [00:00, 3214.11 files/s]\n"
     ]
    }
   ],
   "source": [
    "#split files into respective Train and Val directory using splitfolders lib\n",
    "#60:40 split ratio (Dicoding reqwirements)\n",
    "splitfolders.ratio(target_dir, \n",
    "                   output= '/tmp/rockpaperscissors/rps-cv-images/split_dataset',\n",
    "                   seed=42, \n",
    "                   ratio=(0.6,0.4), \n",
    "                   group_prefix=None)"
   ]
  },
  {
   "cell_type": "code",
   "execution_count": 8,
   "metadata": {
    "colab": {
     "base_uri": "https://localhost:8080/"
    },
    "id": "1GWdOROY98Aq",
    "outputId": "c3d354ab-219f-4e45-8581-94c53b178be3"
   },
   "outputs": [
    {
     "name": "stdout",
     "output_type": "stream",
     "text": [
      "split_dataset/\n",
      "├─val/\n",
      "│ ├─scissors/\n",
      "│ ├─rock/\n",
      "│ └─paper/\n",
      "└─train/\n",
      "  ├─scissors/\n",
      "  ├─rock/\n",
      "  └─paper/\n"
     ]
    }
   ],
   "source": [
    "#result after splitting \n",
    "sd.seedir('/tmp/rockpaperscissors/rps-cv-images/split_dataset', \n",
    "          style='lines', itemlimit=3, depthlimit=2)"
   ]
  },
  {
   "cell_type": "markdown",
   "metadata": {
    "id": "vj574VyiCEWc"
   },
   "source": [
    "### Count the total files in the dataset pre and post split"
   ]
  },
  {
   "cell_type": "code",
   "execution_count": 9,
   "metadata": {
    "colab": {
     "base_uri": "https://localhost:8080/"
    },
    "id": "nS4TKpYP97-H",
    "outputId": "d64e1325-d199-4e64-c169-9c5a88523ad0"
   },
   "outputs": [
    {
     "name": "stdout",
     "output_type": "stream",
     "text": [
      "       type  paper   rock  scissors   total\n",
      "0  original  712.0  726.0     750.0  2188.0\n",
      "1     train  427.0  435.0     450.0  1312.0\n",
      "2       val  285.0  291.0     300.0   876.0\n"
     ]
    }
   ],
   "source": [
    "#count total files inside original dataset, and total files after train and validation set split\n",
    "split_path = '/tmp/rockpaperscissors/rps-cv-images/split_dataset/'\n",
    "folder_names = ['paper', 'rock', 'scissors']\n",
    "\n",
    "original_files ={}\n",
    "train_files = {}\n",
    "val_files = {}\n",
    "\n",
    "for i in folder_names:\n",
    "    original_files[i] = len(os.listdir(target_dir+i))\n",
    "    train_files[i] = len(os.listdir(split_path+'train/'+i))\n",
    "    val_files[i] = len(os.listdir(split_path+'val/'+i))\n",
    "\n",
    "    \n",
    "#convert to dataframe for easier comprehension\n",
    "result_split = pd.DataFrame()\n",
    "result_split = result_split.append(original_files, ignore_index=True)\n",
    "result_split = result_split.append(train_files, ignore_index=True)\n",
    "result_split = result_split.append(val_files, ignore_index=True)\n",
    "result_split['total'] = result_split.sum(axis=1)\n",
    "result_split['type'] = ['original', 'train', 'val']\n",
    "result_split = result_split[['type', 'paper', 'rock', 'scissors', 'total']]\n",
    "print(result_split)"
   ]
  },
  {
   "cell_type": "code",
   "execution_count": 10,
   "metadata": {
    "id": "cuq99nBW97oa"
   },
   "outputs": [],
   "source": [
    "## saving train and validation path into variable\n",
    "train_set = '/tmp/rockpaperscissors/rps-cv-images/split_dataset/train'\n",
    "val_set = '/tmp/rockpaperscissors/rps-cv-images/split_dataset/val'"
   ]
  },
  {
   "cell_type": "code",
   "execution_count": 11,
   "metadata": {
    "id": "zXHPyxLsCaKr"
   },
   "outputs": [],
   "source": [
    "#image augmentation\n",
    "train_aug = ImageDataGenerator(\n",
    "                    rescale=1./255,\n",
    "                    rotation_range=30,\n",
    "                    horizontal_flip=True,\n",
    "                    vertical_flip = True,\n",
    "                    zoom_range=0.2,\n",
    "                    shear_range = 0.2,\n",
    "                    fill_mode = 'nearest')\n",
    "\n",
    "valid_aug = ImageDataGenerator(\n",
    "                    rescale=1./255,\n",
    "                    rotation_range=30,\n",
    "                    horizontal_flip=True,\n",
    "                    vertical_flip = True,\n",
    "                    zoom_range=0.2,\n",
    "                    shear_range = 0.2,\n",
    "                    fill_mode = 'nearest')"
   ]
  },
  {
   "cell_type": "code",
   "execution_count": 12,
   "metadata": {
    "colab": {
     "base_uri": "https://localhost:8080/"
    },
    "id": "bDNv_kdICaIH",
    "outputId": "c687e74b-5ac2-41c4-dda3-8abfee735caf"
   },
   "outputs": [
    {
     "name": "stdout",
     "output_type": "stream",
     "text": [
      "Found 1312 images belonging to 3 classes.\n",
      "Found 876 images belonging to 3 classes.\n"
     ]
    }
   ],
   "source": [
    "#train and validation data generator\n",
    "#image resize to 128x128\n",
    "#batch size 64\n",
    "#class mode is categorical since we have 3 classes\n",
    "train_generator = train_aug.flow_from_directory(\n",
    "        train_set,  \n",
    "        target_size=(128, 128),  \n",
    "        batch_size=64,\n",
    "        class_mode='categorical')\n",
    "\n",
    "validation_generator = valid_aug.flow_from_directory(\n",
    "        val_set, \n",
    "        target_size=(128, 128), \n",
    "        batch_size=64, \n",
    "        class_mode='categorical')"
   ]
  },
  {
   "cell_type": "markdown",
   "metadata": {
    "id": "E-UDMurdEqn1"
   },
   "source": [
    "## Build  conVnet Model"
   ]
  },
  {
   "cell_type": "code",
   "execution_count": 13,
   "metadata": {
    "id": "YG2v8giBCaFz"
   },
   "outputs": [],
   "source": [
    "#building model \n",
    "#using 1 hidden layer \n",
    "#using softmax in output layer instead of sigmoid because there are 3 outcomes (paper, rock, or scissors)\n",
    "model = keras.Sequential([\n",
    "    layers.Conv2D(32, (3,3), activation = 'relu', input_shape= (128,128,3)),\n",
    "    layers.MaxPooling2D(pool_size=(2, 2)),\n",
    "    layers.Conv2D(64,(3,3), activation= 'relu'),\n",
    "    layers.MaxPooling2D(pool_size=(2, 2)),\n",
    "    layers.Conv2D(128,(3,3), activation= 'relu'),\n",
    "    layers.MaxPooling2D(pool_size=(2, 2)),\n",
    "    layers.Flatten(),\n",
    "    layers.Dropout(0.5),\n",
    "    layers.Dense(512, activation= 'relu'),\n",
    "    layers.Dense(3, activation= 'softmax')\n",
    "])"
   ]
  },
  {
   "cell_type": "code",
   "execution_count": 14,
   "metadata": {
    "id": "HaPO_odHCaDk"
   },
   "outputs": [],
   "source": [
    "# Adding lose function and optimizer\n",
    "#categorical since we have 3 classes\n",
    "#using adam \n",
    "model.compile(loss='categorical_crossentropy',\n",
    "              optimizer='adam',\n",
    "              metrics=['accuracy'])"
   ]
  },
  {
   "cell_type": "code",
   "execution_count": 15,
   "metadata": {
    "id": "Axvd8EfVCaBF"
   },
   "outputs": [],
   "source": [
    "# Add early stop to prevent overfitting\n",
    "minimum_change = 0.01 #minimum change to be considered an improvement\n",
    "epoch_stop = 5 #number of epoch to wait before stopping\n",
    "early_stop = EarlyStopping(\n",
    "    min_delta = minimum_change, \n",
    "    patience= epoch_stop, \n",
    "    restore_best_weights=True,\n",
    ")"
   ]
  },
  {
   "cell_type": "code",
   "execution_count": 16,
   "metadata": {
    "colab": {
     "base_uri": "https://localhost:8080/"
    },
    "id": "eRWTKZCXCZ-q",
    "outputId": "bc28b9b7-cf1b-400c-eaeb-8eb6b79bf28d"
   },
   "outputs": [
    {
     "name": "stdout",
     "output_type": "stream",
     "text": [
      "Epoch 1/30\n",
      "15/15 [==============================] - 36s 2s/step - loss: 1.1474 - accuracy: 0.3922 - val_loss: 1.0316 - val_accuracy: 0.4427\n",
      "Epoch 2/30\n",
      "15/15 [==============================] - 34s 2s/step - loss: 0.8772 - accuracy: 0.6099 - val_loss: 0.6928 - val_accuracy: 0.7188\n",
      "Epoch 3/30\n",
      "15/15 [==============================] - 34s 2s/step - loss: 0.5695 - accuracy: 0.7920 - val_loss: 0.5563 - val_accuracy: 0.7760\n",
      "Epoch 4/30\n",
      "15/15 [==============================] - 34s 2s/step - loss: 0.4861 - accuracy: 0.8168 - val_loss: 0.4174 - val_accuracy: 0.8854\n",
      "Epoch 5/30\n",
      "15/15 [==============================] - 34s 2s/step - loss: 0.3725 - accuracy: 0.8772 - val_loss: 0.4150 - val_accuracy: 0.8177\n",
      "Epoch 6/30\n",
      "15/15 [==============================] - 35s 2s/step - loss: 0.2953 - accuracy: 0.9042 - val_loss: 0.2387 - val_accuracy: 0.9062\n",
      "Epoch 7/30\n",
      "15/15 [==============================] - 35s 2s/step - loss: 0.3277 - accuracy: 0.8708 - val_loss: 0.1767 - val_accuracy: 0.9375\n",
      "Epoch 8/30\n",
      "15/15 [==============================] - 34s 2s/step - loss: 0.2988 - accuracy: 0.8944 - val_loss: 0.2199 - val_accuracy: 0.9271\n",
      "Epoch 9/30\n",
      "15/15 [==============================] - 34s 2s/step - loss: 0.1787 - accuracy: 0.9504 - val_loss: 0.2085 - val_accuracy: 0.9271\n",
      "Epoch 10/30\n",
      "15/15 [==============================] - 34s 2s/step - loss: 0.1892 - accuracy: 0.9353 - val_loss: 0.1257 - val_accuracy: 0.9635\n",
      "Epoch 11/30\n",
      "15/15 [==============================] - 35s 2s/step - loss: 0.1401 - accuracy: 0.9563 - val_loss: 0.1073 - val_accuracy: 0.9688\n",
      "Epoch 12/30\n",
      "15/15 [==============================] - 34s 2s/step - loss: 0.1222 - accuracy: 0.9612 - val_loss: 0.0871 - val_accuracy: 0.9740\n",
      "Epoch 13/30\n",
      "15/15 [==============================] - 34s 2s/step - loss: 0.0974 - accuracy: 0.9655 - val_loss: 0.2309 - val_accuracy: 0.9115\n",
      "Epoch 14/30\n",
      "15/15 [==============================] - 34s 2s/step - loss: 0.1102 - accuracy: 0.9698 - val_loss: 0.0965 - val_accuracy: 0.9635\n",
      "Epoch 15/30\n",
      "15/15 [==============================] - 34s 2s/step - loss: 0.0865 - accuracy: 0.9666 - val_loss: 0.0547 - val_accuracy: 0.9792\n",
      "Epoch 16/30\n",
      "15/15 [==============================] - 34s 2s/step - loss: 0.1370 - accuracy: 0.9504 - val_loss: 0.1728 - val_accuracy: 0.9219\n",
      "Epoch 17/30\n",
      "15/15 [==============================] - 34s 2s/step - loss: 0.1287 - accuracy: 0.9580 - val_loss: 0.1115 - val_accuracy: 0.9531\n",
      "Epoch 18/30\n",
      "15/15 [==============================] - 34s 2s/step - loss: 0.1076 - accuracy: 0.9601 - val_loss: 0.0844 - val_accuracy: 0.9688\n",
      "Epoch 19/30\n",
      "15/15 [==============================] - 35s 2s/step - loss: 0.1062 - accuracy: 0.9656 - val_loss: 0.1037 - val_accuracy: 0.9635\n",
      "Epoch 20/30\n",
      "15/15 [==============================] - 34s 2s/step - loss: 0.0653 - accuracy: 0.9828 - val_loss: 0.1215 - val_accuracy: 0.9531\n"
     ]
    }
   ],
   "source": [
    "# Training the model\n",
    "history = model.fit(\n",
    "    train_generator,\n",
    "    epochs=30, \n",
    "    steps_per_epoch=15,\n",
    "    validation_data = validation_generator,\n",
    "    verbose = 1,\n",
    "    validation_steps=3,\n",
    "    callbacks=[early_stop],\n",
    ")"
   ]
  },
  {
   "cell_type": "code",
   "execution_count": 17,
   "metadata": {
    "colab": {
     "base_uri": "https://localhost:8080/",
     "height": 265
    },
    "id": "7Ve6gjtuR41-",
    "outputId": "7ded7d92-74f2-4af4-b7a7-afaf36eea742"
   },
   "outputs": [
    {
     "data": {
      "image/png": "[encoded data removed]",
      "text/plain": [
       "<Figure size 432x288 with 1 Axes>"
      ]
     },
     "metadata": {
      "needs_background": "light",
      "tags": []
     },
     "output_type": "display_data"
    }
   ],
   "source": [
    "#loss \n",
    "history_df = pd.DataFrame(history.history)\n",
    "history_df.loc[1:, ['loss', 'val_loss']].plot()\n",
    "plt.show()"
   ]
  },
  {
   "cell_type": "code",
   "execution_count": 18,
   "metadata": {
    "colab": {
     "base_uri": "https://localhost:8080/",
     "height": 269
    },
    "id": "cjc2REgZSEP6",
    "outputId": "83a5759f-a6df-42d9-9bd7-5c2a624cfbe4"
   },
   "outputs": [
    {
     "data": {
      "image/png": "[encoded data removed]",
      "text/plain": [
       "<Figure size 432x288 with 1 Axes>"
      ]
     },
     "metadata": {
      "needs_background": "light",
      "tags": []
     },
     "output_type": "display_data"
    }
   ],
   "source": [
    "#accuracy \n",
    "history_df.loc[1:, ['accuracy', 'val_accuracy']].plot()\n",
    "plt.show()"
   ]
  },
  {
   "cell_type": "code",
   "execution_count": 25,
   "metadata": {
    "colab": {
     "base_uri": "https://localhost:8080/"
    },
    "id": "ciDxtw5qSe8d",
    "outputId": "1b68028b-7c83-4439-8854-fdc77ea3f3dd"
   },
   "outputs": [
    {
     "name": "stdout",
     "output_type": "stream",
     "text": [
      "Best Validation Loss: 0.05\n",
      "Best Validation Accuracy: 0.98\n"
     ]
    }
   ],
   "source": [
    "#Best validation loss and accuracy score\n",
    "print((\"Best Validation Loss: {:0.2f}\" +\"\\nBest Validation Accuracy: {:0.2f}\").format(history_df['val_loss'].min(), history_df['val_accuracy'].max()))"
   ]
  },
  {
   "cell_type": "code",
   "execution_count": 24,
   "metadata": {
    "colab": {
     "base_uri": "https://localhost:8080/",
     "height": 358,
     "resources": {
      "http://localhost:8080/nbextensions/google.colab/files.js": {
       "data": "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",
       "headers": [
        [
         "content-type",
         "application/javascript"
        ]
       ],
       "ok": true,
       "status": 200,
       "status_text": ""
      }
     }
    },
    "id": "3RdHnUv0G9MY",
    "outputId": "e45df180-0f53-4e23-f06c-c14c03eb0a8d"
   },
   "outputs": [
    {
     "data": {
      "text/html": [
       "\n",
       "     <input type=\"file\" id=\"files-e6704825-857e-4704-a96c-f9f28550a8ef\" name=\"files[]\" multiple disabled\n",
       "        style=\"border:none\" />\n",
       "     <output id=\"result-e6704825-857e-4704-a96c-f9f28550a8ef\">\n",
       "      Upload widget is only available when the cell has been executed in the\n",
       "      current browser session. Please rerun this cell to enable.\n",
       "      </output>\n",
       "      <script src=\"/nbextensions/google.colab/files.js\"></script> "
      ],
      "text/plain": [
       "<IPython.core.display.HTML object>"
      ]
     },
     "metadata": {
      "tags": []
     },
     "output_type": "display_data"
    },
    {
     "name": "stdout",
     "output_type": "stream",
     "text": [
      "Saving 3hIcgfPOoWEIs16j.png to 3hIcgfPOoWEIs16j (2).png\n",
      "3hIcgfPOoWEIs16j.png\n",
      "Scissors\n"
     ]
    },
    {
     "data": {
      "image/png": "[encoded data removed]",
      "text/plain": [
       "<Figure size 432x288 with 1 Axes>"
      ]
     },
     "metadata": {
      "needs_background": "light",
      "tags": []
     },
     "output_type": "display_data"
    }
   ],
   "source": [
    "upload_file = files.upload()\n",
    " \n",
    "for file_name in upload_file.keys():\n",
    " \n",
    "  # predicting images\n",
    "  file_path = file_name\n",
    "  img = image.load_img(files_path, target_size=(128,128))\n",
    "  imgplot = plt.imshow(img)\n",
    "  x = image.img_to_array(img)\n",
    "  x = np.expand_dims(x, axis=0)\n",
    " \n",
    "  images = np.vstack([x])\n",
    "  predict = model.predict(images, batch_size=10)\n",
    "  print(file_name)\n",
    "  if predict[0][0] == 1.:\n",
    "    print('Paper')\n",
    "  elif predict[0][1] == 1.:\n",
    "    print('Rock')\n",
    "  else:\n",
    "    print('Scissors')\n"
   ]
  },
  {
   "cell_type": "code",
   "execution_count": 21,
   "metadata": {
    "colab": {
     "base_uri": "https://localhost:8080/"
    },
    "id": "lOCDmvlxG9E6",
    "outputId": "0007a798-74fd-4e46-c9ad-850d2572d777"
   },
   "outputs": [
    {
     "name": "stdout",
     "output_type": "stream",
     "text": [
      "Running Time:  1000.3123539440003\n"
     ]
    }
   ],
   "source": [
    "stop = timeit.default_timer()\n",
    "\n",
    "print('Running Time: ', stop - start)  #find the total running time"
   ]
  },
  {
   "cell_type": "code",
   "execution_count": 21,
   "metadata": {
    "id": "kpmebLBdHIas"
   },
   "outputs": [],
   "source": []
  }
 ],
 "metadata": {
  "colab": {
   "collapsed_sections": [],
   "name": "Dicoding Image Classification Dimas Adhitya S.ipynb",
   "provenance": []
  },
  "kernelspec": {
   "display_name": "Python 3",
   "language": "python",
   "name": "python3"
  },
  "language_info": {
   "codemirror_mode": {
    "name": "ipython",
    "version": 3
   },
   "file_extension": ".py",
   "mimetype": "text/x-python",
   "name": "python",
   "nbconvert_exporter": "python",
   "pygments_lexer": "ipython3",
   "version": "3.8.10"
  }
 },
 "nbformat": 4,
 "nbformat_minor": 1
}
